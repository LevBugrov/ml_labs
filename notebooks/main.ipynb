{
 "cells": [
  {
   "cell_type": "markdown",
   "metadata": {},
   "source": [
    "# Preprocess"
   ]
  },
  {
   "cell_type": "code",
   "execution_count": 13,
   "metadata": {},
   "outputs": [],
   "source": [
    "import os\n",
    "\n",
    "import sklearn\n",
    "import numpy as np\n",
    "import pandas as pd\n",
    "\n",
    "import seaborn as sns\n",
    "from matplotlib import pyplot as plt"
   ]
  },
  {
   "cell_type": "code",
   "execution_count": 7,
   "metadata": {},
   "outputs": [],
   "source": [
    "test = pd.read_csv('../data/raw/train.csv')\n",
    "train = pd.read_csv('../data/raw/train.csv')"
   ]
  },
  {
   "cell_type": "code",
   "execution_count": 8,
   "metadata": {},
   "outputs": [],
   "source": [
    "TARGET_COLS = ['Артериальная гипертензия', 'ОНМК', 'Стенокардия, ИБС, инфаркт миокарда', 'Сердечная недостаточность', 'Прочие заболевания сердца']\n",
    "ID_COL = 'ID'\n",
    "EDU_COL = 'Образование'\n",
    "SEX_COL = 'Пол'\n",
    "CAT_COLS = [\n",
    "    'Пол', 'Семья', 'Этнос', 'Национальность', 'Религия', 'Образование', \n",
    "    'Профессия', 'Статус Курения', 'Частота пасс кур', 'Алкоголь',\n",
    "    'Время засыпания', 'Время пробуждения'\n",
    "]\n",
    "OHE_COLS = [\n",
    "    'Пол', 'Вы работаете?', 'Выход на пенсию', 'Прекращение работы по болезни', 'Сахарный диабет', 'Гепатит',\n",
    "    'Онкология', 'Хроническое заболевание легких', 'Бронжиальная астма', 'Туберкулез легких ', 'ВИЧ/СПИД',\n",
    "    'Регулярный прим лекарственных средств', 'Травмы за год', 'Переломы','Пассивное курение', 'Сон после обеда', \n",
    "    'Спорт, клубы', 'Религия, клубы'\n",
    "]\n",
    "REAL_COLS = ['Возраст курения', 'Сигарет в день', 'Возраст алког']"
   ]
  },
  {
   "cell_type": "code",
   "execution_count": 9,
   "metadata": {},
   "outputs": [],
   "source": [
    "def set_idx(df: pd.DataFrame, idx_col: str) -> pd.DataFrame:\n",
    "    df = df.set_index(idx_col)\n",
    "    return df"
   ]
  },
  {
   "cell_type": "code",
   "execution_count": 10,
   "metadata": {},
   "outputs": [],
   "source": [
    "train = train.set_index(ID_COL)\n",
    "test = test.set_index(ID_COL)"
   ]
  },
  {
   "cell_type": "code",
   "execution_count": 11,
   "metadata": {},
   "outputs": [],
   "source": [
    "train, target = train.drop(TARGET_COLS, axis=1), train[TARGET_COLS]"
   ]
  },
  {
   "cell_type": "code",
   "execution_count": 12,
   "metadata": {},
   "outputs": [
    {
     "data": {
      "text/html": [
       "<div>\n",
       "<style scoped>\n",
       "    .dataframe tbody tr th:only-of-type {\n",
       "        vertical-align: middle;\n",
       "    }\n",
       "\n",
       "    .dataframe tbody tr th {\n",
       "        vertical-align: top;\n",
       "    }\n",
       "\n",
       "    .dataframe thead th {\n",
       "        text-align: right;\n",
       "    }\n",
       "</style>\n",
       "<table border=\"1\" class=\"dataframe\">\n",
       "  <thead>\n",
       "    <tr style=\"text-align: right;\">\n",
       "      <th></th>\n",
       "      <th>Пол</th>\n",
       "      <th>Семья</th>\n",
       "      <th>Этнос</th>\n",
       "      <th>Национальность</th>\n",
       "      <th>Религия</th>\n",
       "      <th>Образование</th>\n",
       "      <th>Профессия</th>\n",
       "      <th>Вы работаете?</th>\n",
       "      <th>Выход на пенсию</th>\n",
       "      <th>Прекращение работы по болезни</th>\n",
       "      <th>...</th>\n",
       "      <th>Пассивное курение</th>\n",
       "      <th>Частота пасс кур</th>\n",
       "      <th>Алкоголь</th>\n",
       "      <th>Возраст алког</th>\n",
       "      <th>Время засыпания</th>\n",
       "      <th>Время пробуждения</th>\n",
       "      <th>Сон после обеда</th>\n",
       "      <th>Спорт, клубы</th>\n",
       "      <th>Религия, клубы</th>\n",
       "      <th>ID_y</th>\n",
       "    </tr>\n",
       "    <tr>\n",
       "      <th>ID</th>\n",
       "      <th></th>\n",
       "      <th></th>\n",
       "      <th></th>\n",
       "      <th></th>\n",
       "      <th></th>\n",
       "      <th></th>\n",
       "      <th></th>\n",
       "      <th></th>\n",
       "      <th></th>\n",
       "      <th></th>\n",
       "      <th></th>\n",
       "      <th></th>\n",
       "      <th></th>\n",
       "      <th></th>\n",
       "      <th></th>\n",
       "      <th></th>\n",
       "      <th></th>\n",
       "      <th></th>\n",
       "      <th></th>\n",
       "      <th></th>\n",
       "      <th></th>\n",
       "    </tr>\n",
       "  </thead>\n",
       "  <tbody>\n",
       "    <tr>\n",
       "      <th>54-102-358-02</th>\n",
       "      <td>М</td>\n",
       "      <td>в браке в настоящее время</td>\n",
       "      <td>европейская</td>\n",
       "      <td>Русские</td>\n",
       "      <td>Христианство</td>\n",
       "      <td>3 - средняя школа / закон.среднее / выше среднего</td>\n",
       "      <td>низкоквалифицированные работники</td>\n",
       "      <td>1</td>\n",
       "      <td>0</td>\n",
       "      <td>0</td>\n",
       "      <td>...</td>\n",
       "      <td>0</td>\n",
       "      <td>NaN</td>\n",
       "      <td>употребляю в настоящее время</td>\n",
       "      <td>18.0</td>\n",
       "      <td>22:00:00</td>\n",
       "      <td>06:00:00</td>\n",
       "      <td>0</td>\n",
       "      <td>0</td>\n",
       "      <td>0</td>\n",
       "      <td>54-102-358-02</td>\n",
       "    </tr>\n",
       "    <tr>\n",
       "      <th>54-103-101-01</th>\n",
       "      <td>Ж</td>\n",
       "      <td>в разводе</td>\n",
       "      <td>европейская</td>\n",
       "      <td>Русские</td>\n",
       "      <td>Христианство</td>\n",
       "      <td>5 - ВУЗ</td>\n",
       "      <td>дипломированные специалисты</td>\n",
       "      <td>0</td>\n",
       "      <td>0</td>\n",
       "      <td>0</td>\n",
       "      <td>...</td>\n",
       "      <td>0</td>\n",
       "      <td>NaN</td>\n",
       "      <td>никогда не употреблял</td>\n",
       "      <td>NaN</td>\n",
       "      <td>00:00:00</td>\n",
       "      <td>04:00:00</td>\n",
       "      <td>1</td>\n",
       "      <td>0</td>\n",
       "      <td>0</td>\n",
       "      <td>54-103-101-01</td>\n",
       "    </tr>\n",
       "    <tr>\n",
       "      <th>54-501-026-03</th>\n",
       "      <td>Ж</td>\n",
       "      <td>в браке в настоящее время</td>\n",
       "      <td>европейская</td>\n",
       "      <td>Русские</td>\n",
       "      <td>Христианство</td>\n",
       "      <td>5 - ВУЗ</td>\n",
       "      <td>дипломированные специалисты</td>\n",
       "      <td>0</td>\n",
       "      <td>0</td>\n",
       "      <td>0</td>\n",
       "      <td>...</td>\n",
       "      <td>1</td>\n",
       "      <td>1-2 раза в неделю</td>\n",
       "      <td>употребляю в настоящее время</td>\n",
       "      <td>17.0</td>\n",
       "      <td>23:00:00</td>\n",
       "      <td>07:00:00</td>\n",
       "      <td>0</td>\n",
       "      <td>0</td>\n",
       "      <td>0</td>\n",
       "      <td>54-501-026-03</td>\n",
       "    </tr>\n",
       "    <tr>\n",
       "      <th>54-501-094-02</th>\n",
       "      <td>М</td>\n",
       "      <td>в браке в настоящее время</td>\n",
       "      <td>европейская</td>\n",
       "      <td>Русские</td>\n",
       "      <td>Атеист / агностик</td>\n",
       "      <td>3 - средняя школа / закон.среднее / выше среднего</td>\n",
       "      <td>низкоквалифицированные работники</td>\n",
       "      <td>1</td>\n",
       "      <td>0</td>\n",
       "      <td>0</td>\n",
       "      <td>...</td>\n",
       "      <td>1</td>\n",
       "      <td>3-6 раз в неделю</td>\n",
       "      <td>употребляю в настоящее время</td>\n",
       "      <td>13.0</td>\n",
       "      <td>23:00:00</td>\n",
       "      <td>07:00:00</td>\n",
       "      <td>0</td>\n",
       "      <td>0</td>\n",
       "      <td>0</td>\n",
       "      <td>54-501-094-02</td>\n",
       "    </tr>\n",
       "    <tr>\n",
       "      <th>54-503-022-01</th>\n",
       "      <td>Ж</td>\n",
       "      <td>в браке в настоящее время</td>\n",
       "      <td>европейская</td>\n",
       "      <td>Русские</td>\n",
       "      <td>Христианство</td>\n",
       "      <td>3 - средняя школа / закон.среднее / выше среднего</td>\n",
       "      <td>операторы и монтажники установок и машинного о...</td>\n",
       "      <td>0</td>\n",
       "      <td>0</td>\n",
       "      <td>1</td>\n",
       "      <td>...</td>\n",
       "      <td>1</td>\n",
       "      <td>не менее 1 раза в день</td>\n",
       "      <td>употребляю в настоящее время</td>\n",
       "      <td>16.0</td>\n",
       "      <td>23:00:00</td>\n",
       "      <td>06:00:00</td>\n",
       "      <td>0</td>\n",
       "      <td>0</td>\n",
       "      <td>0</td>\n",
       "      <td>54-503-022-01</td>\n",
       "    </tr>\n",
       "  </tbody>\n",
       "</table>\n",
       "<p>5 rows × 33 columns</p>\n",
       "</div>"
      ],
      "text/plain": [
       "              Пол                      Семья        Этнос Национальность  \\\n",
       "ID                                                                         \n",
       "54-102-358-02   М  в браке в настоящее время  европейская        Русские   \n",
       "54-103-101-01   Ж                  в разводе  европейская        Русские   \n",
       "54-501-026-03   Ж  в браке в настоящее время  европейская        Русские   \n",
       "54-501-094-02   М  в браке в настоящее время  европейская        Русские   \n",
       "54-503-022-01   Ж  в браке в настоящее время  европейская        Русские   \n",
       "\n",
       "                         Религия  \\\n",
       "ID                                 \n",
       "54-102-358-02       Христианство   \n",
       "54-103-101-01       Христианство   \n",
       "54-501-026-03       Христианство   \n",
       "54-501-094-02  Атеист / агностик   \n",
       "54-503-022-01       Христианство   \n",
       "\n",
       "                                                     Образование  \\\n",
       "ID                                                                 \n",
       "54-102-358-02  3 - средняя школа / закон.среднее / выше среднего   \n",
       "54-103-101-01                                            5 - ВУЗ   \n",
       "54-501-026-03                                            5 - ВУЗ   \n",
       "54-501-094-02  3 - средняя школа / закон.среднее / выше среднего   \n",
       "54-503-022-01  3 - средняя школа / закон.среднее / выше среднего   \n",
       "\n",
       "                                                       Профессия  \\\n",
       "ID                                                                 \n",
       "54-102-358-02                   низкоквалифицированные работники   \n",
       "54-103-101-01                        дипломированные специалисты   \n",
       "54-501-026-03                        дипломированные специалисты   \n",
       "54-501-094-02                   низкоквалифицированные работники   \n",
       "54-503-022-01  операторы и монтажники установок и машинного о...   \n",
       "\n",
       "               Вы работаете?  Выход на пенсию  Прекращение работы по болезни  \\\n",
       "ID                                                                             \n",
       "54-102-358-02              1                0                              0   \n",
       "54-103-101-01              0                0                              0   \n",
       "54-501-026-03              0                0                              0   \n",
       "54-501-094-02              1                0                              0   \n",
       "54-503-022-01              0                0                              1   \n",
       "\n",
       "               ...  Пассивное курение        Частота пасс кур  \\\n",
       "ID             ...                                              \n",
       "54-102-358-02  ...                  0                     NaN   \n",
       "54-103-101-01  ...                  0                     NaN   \n",
       "54-501-026-03  ...                  1       1-2 раза в неделю   \n",
       "54-501-094-02  ...                  1        3-6 раз в неделю   \n",
       "54-503-022-01  ...                  1  не менее 1 раза в день   \n",
       "\n",
       "                                   Алкоголь  Возраст алког  Время засыпания  \\\n",
       "ID                                                                            \n",
       "54-102-358-02  употребляю в настоящее время           18.0         22:00:00   \n",
       "54-103-101-01         никогда не употреблял            NaN         00:00:00   \n",
       "54-501-026-03  употребляю в настоящее время           17.0         23:00:00   \n",
       "54-501-094-02  употребляю в настоящее время           13.0         23:00:00   \n",
       "54-503-022-01  употребляю в настоящее время           16.0         23:00:00   \n",
       "\n",
       "               Время пробуждения  Сон после обеда  Спорт, клубы  \\\n",
       "ID                                                                \n",
       "54-102-358-02           06:00:00                0             0   \n",
       "54-103-101-01           04:00:00                1             0   \n",
       "54-501-026-03           07:00:00                0             0   \n",
       "54-501-094-02           07:00:00                0             0   \n",
       "54-503-022-01           06:00:00                0             0   \n",
       "\n",
       "               Религия, клубы           ID_y  \n",
       "ID                                            \n",
       "54-102-358-02               0  54-102-358-02  \n",
       "54-103-101-01               0  54-103-101-01  \n",
       "54-501-026-03               0  54-501-026-03  \n",
       "54-501-094-02               0  54-501-094-02  \n",
       "54-503-022-01               0  54-503-022-01  \n",
       "\n",
       "[5 rows x 33 columns]"
      ]
     },
     "execution_count": 12,
     "metadata": {},
     "output_type": "execute_result"
    }
   ],
   "source": [
    "train.head()"
   ]
  },
  {
   "cell_type": "code",
   "execution_count": 14,
   "metadata": {},
   "outputs": [],
   "source": [
    "def cast_types(df: pd.DataFrame) -> pd.DataFrame:\n",
    "    df[CAT_COLS] = df[CAT_COLS].astype('category')\n",
    "\n",
    "    ohe_int_cols = train[OHE_COLS].select_dtypes('number').columns\n",
    "    df[ohe_int_cols] = df[ohe_int_cols].astype(np.int8)\n",
    "\n",
    "    df[REAL_COLS] = df[REAL_COLS].astype(np.float32)\n",
    "    return df"
   ]
  },
  {
   "cell_type": "code",
   "execution_count": 15,
   "metadata": {},
   "outputs": [],
   "source": [
    "def fill_sex(df: pd.DataFrame) -> pd.DataFrame:\n",
    "    most_freq = df[SEX_COL].value_counts().index[0]\n",
    "    df[SEX_COL] = df[SEX_COL].fillna(most_freq)\n",
    "    return df"
   ]
  },
  {
   "cell_type": "code",
   "execution_count": 16,
   "metadata": {},
   "outputs": [],
   "source": [
    "def preprocess(df: pd.DataFrame) -> pd.DataFrame:\n",
    "    df = set_idx(df, ID_COL)\n",
    "    df = drop_unnecesary_id(df)\n",
    "    df = fill_sex(df)\n",
    "    df = cast_types(df)\n",
    "    return df"
   ]
  },
  {
   "cell_type": "code",
   "execution_count": 17,
   "metadata": {},
   "outputs": [],
   "source": [
    "def drop_unnecesary_id(df: pd.DataFrame) -> pd.DataFrame:\n",
    "    if 'ID_y' in df.columns:\n",
    "        df = df.drop('ID_y', axis=1)\n",
    "    return df"
   ]
  },
  {
   "cell_type": "code",
   "execution_count": 18,
   "metadata": {},
   "outputs": [],
   "source": [
    "def add_ord_edu(df: pd.DataFrame) -> pd.DataFrame:\n",
    "    df[f'{EDU_COL}_ord'] = df[EDU_COL].str.slice(0, 1).astype(np.int8).values\n",
    "    return df"
   ]
  },
  {
   "cell_type": "code",
   "execution_count": 19,
   "metadata": {},
   "outputs": [],
   "source": [
    "train = drop_unnecesary_id(train)\n",
    "train = add_ord_edu(train)\n",
    "test = add_ord_edu(test)"
   ]
  },
  {
   "cell_type": "markdown",
   "metadata": {},
   "source": [
    "### New features"
   ]
  },
  {
   "cell_type": "code",
   "execution_count": 20,
   "metadata": {},
   "outputs": [],
   "source": [
    "import os\n",
    "import pandas as pd\n",
    "import numpy as np"
   ]
  },
  {
   "cell_type": "code",
   "execution_count": 21,
   "metadata": {},
   "outputs": [],
   "source": [
    "from sklearn.svm import *\n",
    "from sklearn.model_selection import *\n",
    "from sklearn.preprocessing import *\n",
    "from sklearn.compose import *\n",
    "from sklearn.pipeline import *\n",
    "from sklearn.metrics import *\n",
    "from sklearn.impute import *\n",
    "from sklearn.multioutput import *"
   ]
  },
  {
   "cell_type": "code",
   "execution_count": null,
   "metadata": {},
   "outputs": [],
   "source": [
    "X_train, X_test, Y_train, Y_test = train_test_split(Transformer.transform(train_data),\n",
    "                                                    target_data,\n",
    "                                                    train_size=0.8,\n",
    "                                                    random_state=cfg.RANDOM_STATE,\n",
    "                                                    stratify=target_data.iloc[:,[1, 2, 3, 4]].sum(axis=1)\n",
    "                                                    )"
   ]
  },
  {
   "cell_type": "code",
   "execution_count": 23,
   "metadata": {},
   "outputs": [
    {
     "name": "stdout",
     "output_type": "stream",
     "text": [
      "Collecting python-dotenv\n",
      "  Downloading python_dotenv-0.21.0-py3-none-any.whl (18 kB)\n",
      "Installing collected packages: python-dotenv\n",
      "Successfully installed python-dotenv-0.21.0\n",
      "Note: you may need to restart the kernel to use updated packages.\n"
     ]
    }
   ],
   "source": [
    "%pip install python-dotenv"
   ]
  },
  {
   "cell_type": "code",
   "execution_count": null,
   "metadata": {},
   "outputs": [],
   "source": []
  }
 ],
 "metadata": {
  "kernelspec": {
   "display_name": "Python 3.10.1 ('klass': venv)",
   "language": "python",
   "name": "python3"
  },
  "language_info": {
   "codemirror_mode": {
    "name": "ipython",
    "version": 3
   },
   "file_extension": ".py",
   "mimetype": "text/x-python",
   "name": "python",
   "nbconvert_exporter": "python",
   "pygments_lexer": "ipython3",
   "version": "3.10.1"
  },
  "orig_nbformat": 4,
  "vscode": {
   "interpreter": {
    "hash": "934c69c4bd5ef9b6b103edc5df5818334502e8c8e76761597fedb3a12a6889b4"
   }
  }
 },
 "nbformat": 4,
 "nbformat_minor": 2
}
